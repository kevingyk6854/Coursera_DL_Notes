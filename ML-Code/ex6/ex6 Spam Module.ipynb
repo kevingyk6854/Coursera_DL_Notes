{
 "cells": [
  {
   "cell_type": "markdown",
   "metadata": {},
   "source": [
    "# SVM"
   ]
  },
  {
   "cell_type": "code",
   "execution_count": 2,
   "metadata": {},
   "outputs": [],
   "source": [
    "%matplotlib inline\n",
    "import numpy as np\n",
    "import matplotlib.pyplot as plt\n",
    "import scipy.io # Used to load the OCTAVE *.mat files\n",
    "from sklearn import svm # SVM software\n",
    "import re # regular expression for e-mail processing\n",
    "\n",
    "# This is one possible porter stemmer \n",
    "# 提取词根\n",
    "from stemming.porter2 import stem\n",
    "\n",
    "# This porter stemmer seems to more accurately duplicate the\n",
    "# porter stemmer used in the OCTAVE assignment code\n",
    "# nltk -> 处理自然语言\n",
    "import nltk, nltk.stem.porter"
   ]
  },
  {
   "cell_type": "markdown",
   "metadata": {},
   "source": [
    "### 2 Spam Classifiction "
   ]
  },
  {
   "cell_type": "markdown",
   "metadata": {},
   "source": [
    "#### 2.1 Preprocessing Emails"
   ]
  },
  {
   "cell_type": "code",
   "execution_count": 5,
   "metadata": {},
   "outputs": [
    {
     "name": "stdout",
     "output_type": "stream",
     "text": [
      "data/emailSample1.txt:\n",
      "> Anyone knows how much it costs to host a web portal ?\r\n",
      ">\r\n",
      "Well, it depends on how many visitors you're expecting.\r\n",
      "This can be anywhere from less than 10 bucks a month to a couple of $100. \r\n",
      "You should checkout http://www.rackspace.com/ or perhaps Amazon EC2 \r\n",
      "if youre running something big..\r\n",
      "\r\n",
      "To unsubscribe yourself from this mailing list, send an email to:\r\n",
      "groupname-unsubscribe@egroups.com\r\n",
      "\r\n"
     ]
    }
   ],
   "source": [
    "print (\"data/emailSample1.txt:\")\n",
    "!cat data/emailSample1.txt"
   ]
  },
  {
   "cell_type": "code",
   "execution_count": 16,
   "metadata": {},
   "outputs": [],
   "source": [
    "def preProcess(email):\n",
    "    \"\"\"\n",
    "    Function to do some pre processing (simplification of e-mails).\n",
    "    \n",
    "    Comments throughout implementation describe what it does.\n",
    "    Input = raw e-mail\n",
    "    Output = processed (simplified) email\n",
    "    \n",
    "    预处理email中的内容，一些格式化\n",
    "    \"\"\"\n",
    "    \n",
    "    # Make the entire email low-case\n",
    "    email = email.lower()\n",
    "    \n",
    "    # Strip除去 html tags (strings that look like <...><.../>, replace with a space)\n",
    "    email = re.sub('<[^<>]+>', ' ', email)\n",
    "    \n",
    "    # Any numbers get replaced with the string 'number'\n",
    "    email = re.sub('[0-9]+', 'number', email)\n",
    "    \n",
    "    # Anything starting with http or https:/// replaced with 'httpaddr'\n",
    "    email = re.sub('(http|https)://[^\\s]*', 'httpaddr', email)\n",
    "    \n",
    "    # Strings with \"@\" in the middle are considered emails --> 'emailaddr'\n",
    "    email = re.sub('[^\\s]+@[^\\s]+', 'emailaddr', email)\n",
    "    \n",
    "    # The '$' sign gets replaced with 'dollar'\n",
    "    email = re.sub('[$]+', 'dollar', email)\n",
    "    \n",
    "    return email\n",
    "    "
   ]
  },
  {
   "cell_type": "code",
   "execution_count": 14,
   "metadata": {},
   "outputs": [],
   "source": [
    "def email2TokenList(raw_email):\n",
    "    \"\"\"\n",
    "    Function that takes in preprocessed(simplified) email, tokenizes令牌化 it\n",
    "    stems词干 each word, and returns an (ordered) list of tokens in the email \n",
    "    \n",
    "    取出email中的tokens\n",
    "    \"\"\"\n",
    "    \n",
    "    # I'll use the NLTK stemmer because it more accurately duplicates the\n",
    "    # performance of the OCTAVE implementation in the assignment\n",
    "    stemmer = nltk.stem.porter.PorterStemmer()\n",
    "    \n",
    "    email = preProcess( raw_email )\n",
    "    \n",
    "    # Split the email into individual words (tokens) (split by the delimiter ' ')\n",
    "    # but also split by delimiter '@', '$', '/', etc\n",
    "    # Splitting bu many delimiter in easiest with re.split()\n",
    "    tokens = re.split('[ \\@\\$\\/\\#\\.\\-\\:\\&\\*\\+\\=\\[\\]\\?\\!\\(\\)\\{\\}\\,\\'\\\"\\>\\_\\<\\;\\%]', email)\n",
    "    \n",
    "    # Loop over each word (token) and use a stemmer to shorten it,\n",
    "    # then check if the word is in the vocab_list词汇列表... if it is,\n",
    "    # store what index in the vocab_list the word is\n",
    "    tokenlist = []\n",
    "    \n",
    "    for token in tokens:\n",
    "        \n",
    "        # Remove any non alphanumeric characters\n",
    "        token = re.sub('[^a-zA-Z0-9]', '', token)\n",
    "    \n",
    "        # Use the Porter stemmer to stem the word\n",
    "        stemmed = stemmer.stem(token) # 获取词干\n",
    "        \n",
    "        # Throw out empty tokens\n",
    "        if not len(token): continue\n",
    "        \n",
    "        # Store a list of all unique stemmed words\n",
    "        tokenlist.append(stemmed)\n",
    "    \n",
    "    return tokenlist\n",
    "    "
   ]
  },
  {
   "cell_type": "markdown",
   "metadata": {},
   "source": [
    "#### 2.1.1 Vocabulary list"
   ]
  },
  {
   "cell_type": "code",
   "execution_count": 8,
   "metadata": {},
   "outputs": [],
   "source": [
    "def getVocabDict(reverse=False):\n",
    "    \"\"\"\n",
    "    Function to read in the supplied vocab list text file into a dictionary.\n",
    "    \n",
    "    I'll use this for now, but since I'm using a slightly different stemmer,\n",
    "    I'd like to generate this list myself from some sort of data set...\n",
    "    \n",
    "    Dictionary key is the stemmed word, value is the index in the text file. \n",
    "\n",
    "    If \"reverse=True\", the keys and values are swithed\n",
    "    \n",
    "    生成一个词汇的字典，且数据从.txt中读取，重构一下成dict{}\n",
    "    \"\"\"\n",
    "    \n",
    "    vocab_dict = {}\n",
    "    with open(\"data/vocab.txt\") as f:\n",
    "        for line in f:\n",
    "            (val, key) = line.split()\n",
    "            if not reverse:\n",
    "                vocab_dict[key] = int(val)\n",
    "            else :\n",
    "                vocab_dict[int(val)] = key\n",
    "    \n",
    "    return vocab_dict"
   ]
  },
  {
   "cell_type": "code",
   "execution_count": 9,
   "metadata": {},
   "outputs": [],
   "source": [
    "def email2VocabIndices(raw_email, vocab_dict):\n",
    "    \"\"\"\n",
    "    Function that takes in raw email and returns a list of indices小结 corresponding to\n",
    "    the location in vocab_dict for each stemmed word in the email\n",
    "    \"\"\"\n",
    "    \n",
    "    tokenList = email2TokenList(raw_email)\n",
    "    # 取出vocab dict中对应的token的value\n",
    "    index_list = [vocab_dict[token] for token in tokenList if token in vocab_dict]\n",
    "    \n",
    "    return index_list"
   ]
  },
  {
   "cell_type": "markdown",
   "metadata": {},
   "source": [
    "#### 2.2 Extracting提取 Features from emails"
   ]
  },
  {
   "cell_type": "code",
   "execution_count": 12,
   "metadata": {},
   "outputs": [],
   "source": [
    "def email2FeatureVector(raw_email, vocab_dict):\n",
    "    \"\"\"\n",
    "    Function that takes as input a raw email, and returns \n",
    "    a vector of shape (n, 1) where n is the size of the vocab_list\n",
    "    \n",
    "    The first element in this vector is 1 if the vocab word with index == 1\n",
    "    is the raw_email, 0 otherwise\n",
    "    \"\"\"\n",
    "    n = len(vocab_dict)\n",
    "    result = np.zeros((n, 1))\n",
    "    vocab_indices = email2VocabIndices(raw_email, vocab_dict)\n",
    "    for idx in vocab_indices:\n",
    "        result[idx] = 1\n",
    "    return result\n",
    "    "
   ]
  },
  {
   "cell_type": "code",
   "execution_count": 17,
   "metadata": {},
   "outputs": [
    {
     "name": "stdout",
     "output_type": "stream",
     "text": [
      "Length of feature vector is 1899\n",
      "Number of non-zero entries is: 45\n"
     ]
    }
   ],
   "source": [
    "# \" ... run your code on the email sample. You should see that the feature vector \n",
    "# has length 1899 and 45 non-zero entries.\"\n",
    "\n",
    "vocab_dict = getVocabDict()\n",
    "raw_email = open('data/emailSample1.txt', 'r').read()\n",
    "test_fv = email2FeatureVector(raw_email, vocab_dict)\n",
    "\n",
    "print (\"Length of feature vector is %d\" % len(test_fv))\n",
    "print (\"Number of non-zero entries is: %d\" % sum(test_fv==1))\n",
    "\n"
   ]
  },
  {
   "cell_type": "markdown",
   "metadata": {},
   "source": [
    "#### 2.3 Training SVM for Spam Classification"
   ]
  },
  {
   "cell_type": "code",
   "execution_count": 18,
   "metadata": {},
   "outputs": [],
   "source": [
    "# Read in the training set and test set provided\n",
    "\n",
    "# Training set\n",
    "datafile = 'data/spamTrain.mat'\n",
    "mat = scipy.io.loadmat( datafile )\n",
    "X, Y = mat['X'], mat['y']\n",
    "#NOT inserting a column of 1's in case SVM software does it for me automatically...\n",
    "#X =     np.insert(X    ,0,1,axis=1)\n",
    "\n",
    "# Test set\n",
    "datafile = 'data/spamTest.mat'\n",
    "mat = scipy.io.loadmat( datafile )\n",
    "Xtest, Ytest = mat['Xtest'], mat['ytest']\n"
   ]
  },
  {
   "cell_type": "code",
   "execution_count": 21,
   "metadata": {},
   "outputs": [
    {
     "name": "stdout",
     "output_type": "stream",
     "text": [
      "Total number of training emails =  4000\n",
      "Number of training spam emails =  1277\n",
      "Number of training nonspam emails =  2723\n"
     ]
    }
   ],
   "source": [
    "pos = np.array([X[i] for i in range(X.shape[0]) if Y[i] == 1])\n",
    "neg = np.array([X[i] for i in range(X.shape[0]) if Y[i] == 0])\n",
    "print ('Total number of training emails = ', X.shape[0])\n",
    "print ('Number of training spam emails = ', pos.shape[0])\n",
    "print ('Number of training nonspam emails = ', neg.shape[0])\n"
   ]
  },
  {
   "cell_type": "code",
   "execution_count": 23,
   "metadata": {},
   "outputs": [
    {
     "data": {
      "text/plain": [
       "SVC(C=0.1, cache_size=200, class_weight=None, coef0=0.0,\n",
       "  decision_function_shape='ovr', degree=3, gamma='auto_deprecated',\n",
       "  kernel='linear', max_iter=-1, probability=False, random_state=None,\n",
       "  shrinking=True, tol=0.001, verbose=False)"
      ]
     },
     "execution_count": 23,
     "metadata": {},
     "output_type": "execute_result"
    }
   ],
   "source": [
    "# Run the SVM training (with C=1) using SVM software\n",
    "\n",
    "# First we make an instance of an SVM with C=0.1 and 'linear' kernel\n",
    "linear_svm = svm.SVC(C=0.1, kernel='linear')\n",
    "\n",
    "# Fit the SVM to our X matrix, given the labels Y\n",
    "linear_svm.fit(X, Y.flatten())\n"
   ]
  },
  {
   "cell_type": "code",
   "execution_count": 24,
   "metadata": {},
   "outputs": [
    {
     "name": "stdout",
     "output_type": "stream",
     "text": [
      "Training accuracy = 99.83%\n",
      "Test set accuracy = 98.90%\n"
     ]
    }
   ],
   "source": [
    "# \"Once the training completes, you should see that the classifier gets a \n",
    "#  training accuracy of about 99.8% and a test accuracy of about 98.5%\"\n",
    "\n",
    "train_predictions = linear_svm.predict(X).reshape((Y.shape[0], 1))\n",
    "train_acc = 100.*float(sum(train_predictions == Y))/Y.shape[0]\n",
    "print ('Training accuracy = %0.2f%%' % train_acc)\n",
    "\n",
    "test_predictions = linear_svm.predict(Xtest).reshape((Ytest.shape[0],1))\n",
    "test_acc = 100. * float(sum(test_predictions == Ytest))/Ytest.shape[0]\n",
    "print ('Test set accuracy = %0.2f%%' % test_acc)\n"
   ]
  },
  {
   "cell_type": "code",
   "execution_count": null,
   "metadata": {},
   "outputs": [],
   "source": []
  },
  {
   "cell_type": "code",
   "execution_count": 25,
   "metadata": {},
   "outputs": [
    {
     "name": "stdout",
     "output_type": "stream",
     "text": [
      "The 15 most important words to classify a spam e-mail are:\n",
      "['otherwis', 'clearli', 'remot', 'gt', 'visa', 'base', 'doesn', 'wife', 'previous', 'player', 'mortgag', 'natur', 'll', 'futur', 'hot']\n",
      "The 15 least important words to classify a spam e-mail are:\n",
      "['http', 'toll', 'xp', 'ratio', 'august', 'unsubscrib', 'useless', 'numberth', 'round', 'linux', 'datapow', 'wrong', 'urgent', 'that', 'spam']\n",
      "# of spam containing \"otherwis\" = 804/1277 = 62.96%\n",
      "# of NON spam containing \"otherwis\" = 301/2723 = 11.05%\n"
     ]
    }
   ],
   "source": [
    "# Determine the words most likely to indicate an e-mail is a spam\n",
    "# From the trained SVM we can get a list of the weight coefficients for each\n",
    "# word (technically, each word index)\n",
    "\n",
    "vocab_dict_flipped = getVocabDict(reverse=True)\n",
    "\n",
    "#Sort indicies from most important to least-important (high to low weight)\n",
    "sorted_indices = np.argsort( linear_svm.coef_, axis=None )[::-1]\n",
    "print (\"The 15 most important words to classify a spam e-mail are:\")\n",
    "print ([ vocab_dict_flipped[x] for x in sorted_indices[:15] ])\n",
    "print\n",
    "print (\"The 15 least important words to classify a spam e-mail are:\")\n",
    "print ([ vocab_dict_flipped[x] for x in sorted_indices[-15:] ])\n",
    "print\n",
    "\n",
    "# Most common word (mostly to debug):\n",
    "most_common_word = vocab_dict_flipped[sorted_indices[0]]\n",
    "print ('# of spam containing \\\"%s\\\" = %d/%d = %0.2f%%'% \\\n",
    "    (most_common_word, sum(pos[:,1190]),pos.shape[0],  \\\n",
    "     100.*float(sum(pos[:,1190]))/pos.shape[0]))\n",
    "print ('# of NON spam containing \\\"%s\\\" = %d/%d = %0.2f%%'% \\\n",
    "    (most_common_word, sum(neg[:,1190]),neg.shape[0],      \\\n",
    "     100.*float(sum(neg[:,1190]))/neg.shape[0]))"
   ]
  },
  {
   "cell_type": "code",
   "execution_count": null,
   "metadata": {},
   "outputs": [],
   "source": []
  },
  {
   "cell_type": "code",
   "execution_count": null,
   "metadata": {},
   "outputs": [],
   "source": []
  },
  {
   "cell_type": "code",
   "execution_count": null,
   "metadata": {},
   "outputs": [],
   "source": []
  }
 ],
 "metadata": {
  "kernelspec": {
   "display_name": "Python 3",
   "language": "python",
   "name": "python3"
  },
  "language_info": {
   "codemirror_mode": {
    "name": "ipython",
    "version": 3
   },
   "file_extension": ".py",
   "mimetype": "text/x-python",
   "name": "python",
   "nbconvert_exporter": "python",
   "pygments_lexer": "ipython3",
   "version": "3.7.2"
  }
 },
 "nbformat": 4,
 "nbformat_minor": 2
}
